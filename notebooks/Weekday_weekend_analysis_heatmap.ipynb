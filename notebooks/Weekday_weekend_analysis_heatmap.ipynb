{
 "cells": [
  {
   "cell_type": "code",
   "execution_count": 2,
   "metadata": {},
   "outputs": [],
   "source": [
    "import pandas as pd\n",
    "import numpy as np\n",
    "import datetime\n",
    "from matplotlib import pyplot as plt\n",
    "import matplotlib as mpl\n",
    "import datetime\n",
    "import seaborn as sns"
   ]
  },
  {
   "cell_type": "code",
   "execution_count": 4,
   "metadata": {},
   "outputs": [],
   "source": [
    "df = pd.read_pickle('./data_final.pkl') #importing cleaned data from the other file"
   ]
  },
  {
   "cell_type": "code",
   "execution_count": 5,
   "metadata": {},
   "outputs": [],
   "source": [
    "df_day = df.groupby(by = ['Station','Date']).sum()"
   ]
  },
  {
   "cell_type": "code",
   "execution_count": 6,
   "metadata": {},
   "outputs": [],
   "source": [
    "df_day = df_day.reset_index()"
   ]
  },
  {
   "cell_type": "code",
   "execution_count": 7,
   "metadata": {},
   "outputs": [],
   "source": [
    "df_day['Day_of_week'] = df_day.Date.apply(lambda x: x.weekday())"
   ]
  },
  {
   "cell_type": "code",
   "execution_count": 8,
   "metadata": {},
   "outputs": [],
   "source": [
    "df_day['is_weekday'] = df_day.Day_of_week.apply(lambda x: np.where(x < 5, True, False))"
   ]
  },
  {
   "cell_type": "code",
   "execution_count": 9,
   "metadata": {},
   "outputs": [
    {
     "data": {
      "text/html": [
       "<div>\n",
       "<style scoped>\n",
       "    .dataframe tbody tr th:only-of-type {\n",
       "        vertical-align: middle;\n",
       "    }\n",
       "\n",
       "    .dataframe tbody tr th {\n",
       "        vertical-align: top;\n",
       "    }\n",
       "\n",
       "    .dataframe thead th {\n",
       "        text-align: right;\n",
       "    }\n",
       "</style>\n",
       "<table border=\"1\" class=\"dataframe\">\n",
       "  <thead>\n",
       "    <tr style=\"text-align: right;\">\n",
       "      <th></th>\n",
       "      <th>Station</th>\n",
       "      <th>Date</th>\n",
       "      <th>Exit_diff</th>\n",
       "      <th>Entry_diff</th>\n",
       "      <th>Net_Flow</th>\n",
       "      <th>Day_of_week</th>\n",
       "      <th>is_weekday</th>\n",
       "    </tr>\n",
       "  </thead>\n",
       "  <tbody>\n",
       "    <tr>\n",
       "      <th>0</th>\n",
       "      <td>1 AV</td>\n",
       "      <td>2018-12-29</td>\n",
       "      <td>15430.0</td>\n",
       "      <td>12071.0</td>\n",
       "      <td>27501.0</td>\n",
       "      <td>5</td>\n",
       "      <td>False</td>\n",
       "    </tr>\n",
       "    <tr>\n",
       "      <th>1</th>\n",
       "      <td>1 AV</td>\n",
       "      <td>2018-12-30</td>\n",
       "      <td>14775.0</td>\n",
       "      <td>11989.0</td>\n",
       "      <td>26764.0</td>\n",
       "      <td>6</td>\n",
       "      <td>False</td>\n",
       "    </tr>\n",
       "    <tr>\n",
       "      <th>2</th>\n",
       "      <td>1 AV</td>\n",
       "      <td>2018-12-31</td>\n",
       "      <td>18246.0</td>\n",
       "      <td>14786.0</td>\n",
       "      <td>33032.0</td>\n",
       "      <td>0</td>\n",
       "      <td>True</td>\n",
       "    </tr>\n",
       "    <tr>\n",
       "      <th>3</th>\n",
       "      <td>1 AV</td>\n",
       "      <td>2019-01-01</td>\n",
       "      <td>12097.0</td>\n",
       "      <td>9989.0</td>\n",
       "      <td>22086.0</td>\n",
       "      <td>1</td>\n",
       "      <td>True</td>\n",
       "    </tr>\n",
       "    <tr>\n",
       "      <th>4</th>\n",
       "      <td>1 AV</td>\n",
       "      <td>2019-01-02</td>\n",
       "      <td>21058.0</td>\n",
       "      <td>18476.0</td>\n",
       "      <td>39534.0</td>\n",
       "      <td>2</td>\n",
       "      <td>True</td>\n",
       "    </tr>\n",
       "  </tbody>\n",
       "</table>\n",
       "</div>"
      ],
      "text/plain": [
       "  Station        Date  Exit_diff  Entry_diff  Net_Flow  Day_of_week  \\\n",
       "0    1 AV  2018-12-29    15430.0     12071.0   27501.0            5   \n",
       "1    1 AV  2018-12-30    14775.0     11989.0   26764.0            6   \n",
       "2    1 AV  2018-12-31    18246.0     14786.0   33032.0            0   \n",
       "3    1 AV  2019-01-01    12097.0      9989.0   22086.0            1   \n",
       "4    1 AV  2019-01-02    21058.0     18476.0   39534.0            2   \n",
       "\n",
       "   is_weekday  \n",
       "0       False  \n",
       "1       False  \n",
       "2        True  \n",
       "3        True  \n",
       "4        True  "
      ]
     },
     "execution_count": 9,
     "metadata": {},
     "output_type": "execute_result"
    }
   ],
   "source": [
    "weekdays = {0:\"Monday\",1:\"Tuesday\",2:\"Wednesday\",3:\"Thursday\",4:\"Friday\",5:\"Saturday\",6:\"Sunday\"}\n",
    "df_day.head()"
   ]
  },
  {
   "cell_type": "code",
   "execution_count": 10,
   "metadata": {},
   "outputs": [],
   "source": [
    "week_day_data = pd.DataFrame(df_day[df_day.is_weekday == True])"
   ]
  },
  {
   "cell_type": "code",
   "execution_count": 11,
   "metadata": {},
   "outputs": [],
   "source": [
    "week_end_data = pd.DataFrame(df_day[df_day.is_weekday == False])"
   ]
  },
  {
   "cell_type": "code",
   "execution_count": 12,
   "metadata": {},
   "outputs": [],
   "source": [
    "week_day_data_summary = week_day_data.groupby( by = ['Station']).sum()"
   ]
  },
  {
   "cell_type": "code",
   "execution_count": 13,
   "metadata": {},
   "outputs": [],
   "source": [
    "NFby_station_weekday = week_day_data_summary.Net_Flow.sort_values(ascending = False).rename('weekday')"
   ]
  },
  {
   "cell_type": "code",
   "execution_count": 14,
   "metadata": {},
   "outputs": [],
   "source": [
    "top_ten = NFby_station_weekday.index[:10].tolist()"
   ]
  },
  {
   "cell_type": "code",
   "execution_count": 15,
   "metadata": {},
   "outputs": [
    {
     "data": {
      "image/png": "[encoded data removed]",
      "text/plain": [
       "<Figure size 720x720 with 1 Axes>"
      ]
     },
     "metadata": {
      "needs_background": "light"
     },
     "output_type": "display_data"
    }
   ],
   "source": [
    "plot_length = 10\n",
    "\n",
    "plt.figure(figsize=[10,10])\n",
    "plt.bar(x = NFby_station_weekday.index[:plot_length],height = NFby_station_weekday[:plot_length])\n",
    "plt.xticks(np.arange(plot_length),NFby_station_weekday.index[:plot_length],rotation=45)\n",
    "\n",
    "plt.ylabel('Total Traffic')\n",
    "plt.title('Weekday traffic, Top {} stations'.format(plot_length))\n",
    "\n",
    "plt.savefig('graph_top_stations_weekday.png')"
   ]
  },
  {
   "cell_type": "code",
   "execution_count": 16,
   "metadata": {},
   "outputs": [],
   "source": [
    "week_end_data_summary = week_end_data.groupby( by = ['Station']).sum()"
   ]
  },
  {
   "cell_type": "code",
   "execution_count": 17,
   "metadata": {},
   "outputs": [],
   "source": [
    "NFby_station_weekend = week_end_data_summary.Net_Flow.sort_values(ascending = False).rename('weekend')"
   ]
  },
  {
   "cell_type": "code",
   "execution_count": 18,
   "metadata": {},
   "outputs": [
    {
     "data": {
      "image/png": "[encoded data removed]",
      "text/plain": [
       "<Figure size 720x720 with 1 Axes>"
      ]
     },
     "metadata": {
      "needs_background": "light"
     },
     "output_type": "display_data"
    }
   ],
   "source": [
    "plot_length = 10\n",
    "\n",
    "plt.figure(figsize=[10,10])\n",
    "plt.bar(x = NFby_station_weekend.index[:plot_length],height = NFby_station_weekend[:plot_length])\n",
    "plt.xticks(np.arange(plot_length),NFby_station_weekend.index[:plot_length],rotation=45)\n",
    "\n",
    "plt.ylabel('Total Traffic')\n",
    "plt.title('Weekend traffic, Top {} stations'.format(plot_length))\n",
    "\n",
    "plt.savefig('graph_top_stations_weekend.png')"
   ]
  },
  {
   "cell_type": "code",
   "execution_count": 19,
   "metadata": {},
   "outputs": [],
   "source": [
    "week_info = pd.DataFrame([NFby_station_weekday,NFby_station_weekend]).transpose()"
   ]
  },
  {
   "cell_type": "code",
   "execution_count": 20,
   "metadata": {},
   "outputs": [],
   "source": [
    "week_info['weekday_weekend_ratio'] = week_info.weekday*2/(5*week_info.weekend)"
   ]
  },
  {
   "cell_type": "code",
   "execution_count": 21,
   "metadata": {},
   "outputs": [
    {
     "data": {
      "image/png": "[encoded data removed]",
      "text/plain": [
       "<Figure size 720x720 with 1 Axes>"
      ]
     },
     "metadata": {
      "needs_background": "light"
     },
     "output_type": "display_data"
    }
   ],
   "source": [
    "plt.figure(figsize=[10,10])\n",
    "sns.distplot(week_info.weekday_weekend_ratio, label = 'Weekday to Weekend ridership ratio')\n",
    "plt.xlabel('Weekday to Weekend ridership ratio')\n",
    "plt.savefig('weekday to weekend ridership.png')"
   ]
  },
  {
   "cell_type": "code",
   "execution_count": 22,
   "metadata": {},
   "outputs": [],
   "source": [
    "week_info['tourist_flag'] = np.where(abs(week_info.weekday_weekend_ratio-1) < 0.05 , True, False )"
   ]
  },
  {
   "cell_type": "code",
   "execution_count": 23,
   "metadata": {},
   "outputs": [
    {
     "data": {
      "text/html": [
       "<div>\n",
       "<style scoped>\n",
       "    .dataframe tbody tr th:only-of-type {\n",
       "        vertical-align: middle;\n",
       "    }\n",
       "\n",
       "    .dataframe tbody tr th {\n",
       "        vertical-align: top;\n",
       "    }\n",
       "\n",
       "    .dataframe thead th {\n",
       "        text-align: right;\n",
       "    }\n",
       "</style>\n",
       "<table border=\"1\" class=\"dataframe\">\n",
       "  <thead>\n",
       "    <tr style=\"text-align: right;\">\n",
       "      <th></th>\n",
       "      <th>weekday</th>\n",
       "      <th>weekend</th>\n",
       "      <th>weekday_weekend_ratio</th>\n",
       "      <th>tourist_flag</th>\n",
       "    </tr>\n",
       "  </thead>\n",
       "  <tbody>\n",
       "    <tr>\n",
       "      <th>CONEY IS-STILLW</th>\n",
       "      <td>6074873.0</td>\n",
       "      <td>2470846.0</td>\n",
       "      <td>0.983448</td>\n",
       "      <td>True</td>\n",
       "    </tr>\n",
       "    <tr>\n",
       "      <th>METROPOLITAN AV</th>\n",
       "      <td>5217522.0</td>\n",
       "      <td>2109850.0</td>\n",
       "      <td>0.989174</td>\n",
       "      <td>True</td>\n",
       "    </tr>\n",
       "    <tr>\n",
       "      <th>JFK JAMAICA CT1</th>\n",
       "      <td>4790072.0</td>\n",
       "      <td>1847814.0</td>\n",
       "      <td>1.036916</td>\n",
       "      <td>True</td>\n",
       "    </tr>\n",
       "    <tr>\n",
       "      <th>BROADWAY JCT</th>\n",
       "      <td>3928093.0</td>\n",
       "      <td>1530937.0</td>\n",
       "      <td>1.026324</td>\n",
       "      <td>True</td>\n",
       "    </tr>\n",
       "    <tr>\n",
       "      <th>HOWARD BCH JFK</th>\n",
       "      <td>2128900.0</td>\n",
       "      <td>839967.0</td>\n",
       "      <td>1.013802</td>\n",
       "      <td>True</td>\n",
       "    </tr>\n",
       "    <tr>\n",
       "      <th>BOWERY</th>\n",
       "      <td>1767008.0</td>\n",
       "      <td>739975.0</td>\n",
       "      <td>0.955172</td>\n",
       "      <td>True</td>\n",
       "    </tr>\n",
       "    <tr>\n",
       "      <th>LAFAYETTE AV</th>\n",
       "      <td>1653855.0</td>\n",
       "      <td>650372.0</td>\n",
       "      <td>1.017175</td>\n",
       "      <td>True</td>\n",
       "    </tr>\n",
       "    <tr>\n",
       "      <th>SENECA AVE</th>\n",
       "      <td>1549479.0</td>\n",
       "      <td>605172.0</td>\n",
       "      <td>1.024158</td>\n",
       "      <td>True</td>\n",
       "    </tr>\n",
       "    <tr>\n",
       "      <th>HEWES ST</th>\n",
       "      <td>1425132.0</td>\n",
       "      <td>586549.0</td>\n",
       "      <td>0.971876</td>\n",
       "      <td>True</td>\n",
       "    </tr>\n",
       "    <tr>\n",
       "      <th>ROCKAWAY PARK B</th>\n",
       "      <td>368357.0</td>\n",
       "      <td>151224.0</td>\n",
       "      <td>0.974335</td>\n",
       "      <td>True</td>\n",
       "    </tr>\n",
       "    <tr>\n",
       "      <th>BEACH 98 ST</th>\n",
       "      <td>241834.0</td>\n",
       "      <td>94296.0</td>\n",
       "      <td>1.025851</td>\n",
       "      <td>True</td>\n",
       "    </tr>\n",
       "    <tr>\n",
       "      <th>BEACH 105 ST</th>\n",
       "      <td>135968.0</td>\n",
       "      <td>55600.0</td>\n",
       "      <td>0.978187</td>\n",
       "      <td>True</td>\n",
       "    </tr>\n",
       "  </tbody>\n",
       "</table>\n",
       "</div>"
      ],
      "text/plain": [
       "                   weekday    weekend  weekday_weekend_ratio  tourist_flag\n",
       "CONEY IS-STILLW  6074873.0  2470846.0               0.983448          True\n",
       "METROPOLITAN AV  5217522.0  2109850.0               0.989174          True\n",
       "JFK JAMAICA CT1  4790072.0  1847814.0               1.036916          True\n",
       "BROADWAY JCT     3928093.0  1530937.0               1.026324          True\n",
       "HOWARD BCH JFK   2128900.0   839967.0               1.013802          True\n",
       "BOWERY           1767008.0   739975.0               0.955172          True\n",
       "LAFAYETTE AV     1653855.0   650372.0               1.017175          True\n",
       "SENECA AVE       1549479.0   605172.0               1.024158          True\n",
       "HEWES ST         1425132.0   586549.0               0.971876          True\n",
       "ROCKAWAY PARK B   368357.0   151224.0               0.974335          True\n",
       "BEACH 98 ST       241834.0    94296.0               1.025851          True\n",
       "BEACH 105 ST      135968.0    55600.0               0.978187          True"
      ]
     },
     "execution_count": 23,
     "metadata": {},
     "output_type": "execute_result"
    }
   ],
   "source": [
    "week_info[week_info.tourist_flag == True] # the stations selected are tourists stations."
   ]
  },
  {
   "cell_type": "markdown",
   "metadata": {},
   "source": [
    "We will focus the exploration now on the top 10 stations only.\n",
    "First, we would like to know how busy it is during weekdays v.s. weekends"
   ]
  },
  {
   "cell_type": "code",
   "execution_count": 24,
   "metadata": {},
   "outputs": [],
   "source": [
    "week_day_data_dayofweek = df_day.groupby( by = ['Station','Day_of_week']).mean().reset_index()"
   ]
  },
  {
   "cell_type": "code",
   "execution_count": 25,
   "metadata": {},
   "outputs": [],
   "source": [
    "week_top_ten = week_day_data_dayofweek[week_day_data_dayofweek.Station.isin(top_ten)]"
   ]
  },
  {
   "cell_type": "code",
   "execution_count": 26,
   "metadata": {},
   "outputs": [],
   "source": [
    "week_top_ten_s = pd.crosstab(week_top_ten.Day_of_week,week_top_ten.Station,week_top_ten.Net_Flow,aggfunc = np.mean).reset_index()"
   ]
  },
  {
   "cell_type": "code",
   "execution_count": 27,
   "metadata": {},
   "outputs": [],
   "source": [
    "week_top_ten_s.Day_of_week.replace(weekdays,inplace = True)"
   ]
  },
  {
   "cell_type": "code",
   "execution_count": 28,
   "metadata": {},
   "outputs": [],
   "source": [
    "weekdays_list = [\"Monday\",\"Tuesday\",\"Wednesday\",\"Thursday\",\"Friday\",\"Saturday\",\"Sunday\"]"
   ]
  },
  {
   "cell_type": "code",
   "execution_count": 29,
   "metadata": {},
   "outputs": [
    {
     "data": {
      "image/png": "[encoded data removed]",
      "text/plain": [
       "<Figure size 864x576 with 1 Axes>"
      ]
     },
     "metadata": {
      "needs_background": "light"
     },
     "output_type": "display_data"
    }
   ],
   "source": [
    "plt.figure(figsize=[12,8])\n",
    "top_five = top_ten[:5]\n",
    "yticks = [100000,150000,200000,250000,300000]\n",
    "\n",
    "for sta in top_five:\n",
    "    plt.plot(week_top_ten_s.Day_of_week, week_top_ten_s[sta],label = sta,linewidth = 4)\n",
    "    \n",
    "plt.xticks(range(7),weekdays_list,fontsize =15)\n",
    "plt.ylabel('Average Traffic per day',fontsize = 15)\n",
    "plt.yticks(yticks,['100k','150k','200k','250k','300k'],fontsize = 15)\n",
    "plt.legend(fontsize = 12)\n",
    "plt.savefig('top5station_daily_avg.png')"
   ]
  },
  {
   "cell_type": "markdown",
   "metadata": {},
   "source": [
    "The top five stations are all very populous during weekdays than weekends. We will then focus on weekdays and try to understand how it differs by period of day."
   ]
  },
  {
   "cell_type": "code",
   "execution_count": 142,
   "metadata": {},
   "outputs": [],
   "source": [
    "time_groups = [6,12,16,20]\n",
    "time_points = []\n",
    "for time in time_groups:\n",
    "    time_points.append(datetime.datetime(year=1900,month=1,day=1,hour=time, minute=0, second=0))\n",
    "\n",
    "time_points.append(datetime.datetime(year=1900,month=1,day=2,hour=0, minute=0, second=0))\n",
    "    \n",
    "def group_time(time):\n",
    "    if time_points[0]<= time < time_points[1]:\n",
    "        return 0\n",
    "    if time_points[1] <= time < time_points[2]:\n",
    "        return 1\n",
    "    if time_points[2] <= time < time_points[3]:\n",
    "        return 2\n",
    "    if time_points[3] <= time <= time_points[4]:\n",
    "        return 3\n",
    "    pass\n",
    "\n",
    "time_of_day = ['Morning','Noon','Afternoon','Evening']\n",
    "time_of_day_dict = {0:'Morning',1:'Noon',2:'Afternoon',3:'Evening'}"
   ]
  },
  {
   "cell_type": "code",
   "execution_count": 44,
   "metadata": {},
   "outputs": [
    {
     "ename": "ValueError",
     "evalue": "time data '1900-01-01 00:00:00' does not match format '%H:%M:%S'",
     "output_type": "error",
     "traceback": [
      "\u001b[0;31m---------------------------------------------------------------------------\u001b[0m",
      "\u001b[0;31mValueError\u001b[0m                                Traceback (most recent call last)",
      "\u001b[0;32m<ipython-input-44-9820a078abb1>\u001b[0m in \u001b[0;36m<module>\u001b[0;34m\u001b[0m\n\u001b[0;32m----> 1\u001b[0;31m \u001b[0mdf\u001b[0m\u001b[0;34m.\u001b[0m\u001b[0mTime\u001b[0m \u001b[0;34m=\u001b[0m \u001b[0mdf\u001b[0m\u001b[0;34m.\u001b[0m\u001b[0mTime\u001b[0m\u001b[0;34m.\u001b[0m\u001b[0mastype\u001b[0m\u001b[0;34m(\u001b[0m\u001b[0mstr\u001b[0m\u001b[0;34m)\u001b[0m\u001b[0;34m.\u001b[0m\u001b[0mapply\u001b[0m\u001b[0;34m(\u001b[0m\u001b[0;32mlambda\u001b[0m \u001b[0mx\u001b[0m\u001b[0;34m:\u001b[0m \u001b[0mdatetime\u001b[0m\u001b[0;34m.\u001b[0m\u001b[0mdatetime\u001b[0m\u001b[0;34m.\u001b[0m\u001b[0mstrptime\u001b[0m\u001b[0;34m(\u001b[0m\u001b[0mx\u001b[0m\u001b[0;34m,\u001b[0m \u001b[0;34m'%H:%M:%S'\u001b[0m\u001b[0;34m)\u001b[0m\u001b[0;34m)\u001b[0m\u001b[0;34m\u001b[0m\u001b[0;34m\u001b[0m\u001b[0m\n\u001b[0m",
      "\u001b[0;32m~/opt/anaconda3/envs/metisnow/lib/python3.7/site-packages/pandas/core/series.py\u001b[0m in \u001b[0;36mapply\u001b[0;34m(self, func, convert_dtype, args, **kwds)\u001b[0m\n\u001b[1;32m   4043\u001b[0m             \u001b[0;32melse\u001b[0m\u001b[0;34m:\u001b[0m\u001b[0;34m\u001b[0m\u001b[0;34m\u001b[0m\u001b[0m\n\u001b[1;32m   4044\u001b[0m                 \u001b[0mvalues\u001b[0m \u001b[0;34m=\u001b[0m \u001b[0mself\u001b[0m\u001b[0;34m.\u001b[0m\u001b[0mastype\u001b[0m\u001b[0;34m(\u001b[0m\u001b[0mobject\u001b[0m\u001b[0;34m)\u001b[0m\u001b[0;34m.\u001b[0m\u001b[0mvalues\u001b[0m\u001b[0;34m\u001b[0m\u001b[0;34m\u001b[0m\u001b[0m\n\u001b[0;32m-> 4045\u001b[0;31m                 \u001b[0mmapped\u001b[0m \u001b[0;34m=\u001b[0m \u001b[0mlib\u001b[0m\u001b[0;34m.\u001b[0m\u001b[0mmap_infer\u001b[0m\u001b[0;34m(\u001b[0m\u001b[0mvalues\u001b[0m\u001b[0;34m,\u001b[0m \u001b[0mf\u001b[0m\u001b[0;34m,\u001b[0m \u001b[0mconvert\u001b[0m\u001b[0;34m=\u001b[0m\u001b[0mconvert_dtype\u001b[0m\u001b[0;34m)\u001b[0m\u001b[0;34m\u001b[0m\u001b[0;34m\u001b[0m\u001b[0m\n\u001b[0m\u001b[1;32m   4046\u001b[0m \u001b[0;34m\u001b[0m\u001b[0m\n\u001b[1;32m   4047\u001b[0m         \u001b[0;32mif\u001b[0m \u001b[0mlen\u001b[0m\u001b[0;34m(\u001b[0m\u001b[0mmapped\u001b[0m\u001b[0;34m)\u001b[0m \u001b[0;32mand\u001b[0m \u001b[0misinstance\u001b[0m\u001b[0;34m(\u001b[0m\u001b[0mmapped\u001b[0m\u001b[0;34m[\u001b[0m\u001b[0;36m0\u001b[0m\u001b[0;34m]\u001b[0m\u001b[0;34m,\u001b[0m \u001b[0mSeries\u001b[0m\u001b[0;34m)\u001b[0m\u001b[0;34m:\u001b[0m\u001b[0;34m\u001b[0m\u001b[0;34m\u001b[0m\u001b[0m\n",
      "\u001b[0;32mpandas/_libs/lib.pyx\u001b[0m in \u001b[0;36mpandas._libs.lib.map_infer\u001b[0;34m()\u001b[0m\n",
      "\u001b[0;32m<ipython-input-44-9820a078abb1>\u001b[0m in \u001b[0;36m<lambda>\u001b[0;34m(x)\u001b[0m\n\u001b[0;32m----> 1\u001b[0;31m \u001b[0mdf\u001b[0m\u001b[0;34m.\u001b[0m\u001b[0mTime\u001b[0m \u001b[0;34m=\u001b[0m \u001b[0mdf\u001b[0m\u001b[0;34m.\u001b[0m\u001b[0mTime\u001b[0m\u001b[0;34m.\u001b[0m\u001b[0mastype\u001b[0m\u001b[0;34m(\u001b[0m\u001b[0mstr\u001b[0m\u001b[0;34m)\u001b[0m\u001b[0;34m.\u001b[0m\u001b[0mapply\u001b[0m\u001b[0;34m(\u001b[0m\u001b[0;32mlambda\u001b[0m \u001b[0mx\u001b[0m\u001b[0;34m:\u001b[0m \u001b[0mdatetime\u001b[0m\u001b[0;34m.\u001b[0m\u001b[0mdatetime\u001b[0m\u001b[0;34m.\u001b[0m\u001b[0mstrptime\u001b[0m\u001b[0;34m(\u001b[0m\u001b[0mx\u001b[0m\u001b[0;34m,\u001b[0m \u001b[0;34m'%H:%M:%S'\u001b[0m\u001b[0;34m)\u001b[0m\u001b[0;34m)\u001b[0m\u001b[0;34m\u001b[0m\u001b[0;34m\u001b[0m\u001b[0m\n\u001b[0m",
      "\u001b[0;32m~/opt/anaconda3/envs/metisnow/lib/python3.7/_strptime.py\u001b[0m in \u001b[0;36m_strptime_datetime\u001b[0;34m(cls, data_string, format)\u001b[0m\n\u001b[1;32m    575\u001b[0m     \"\"\"Return a class cls instance based on the input string and the\n\u001b[1;32m    576\u001b[0m     format string.\"\"\"\n\u001b[0;32m--> 577\u001b[0;31m     \u001b[0mtt\u001b[0m\u001b[0;34m,\u001b[0m \u001b[0mfraction\u001b[0m\u001b[0;34m,\u001b[0m \u001b[0mgmtoff_fraction\u001b[0m \u001b[0;34m=\u001b[0m \u001b[0m_strptime\u001b[0m\u001b[0;34m(\u001b[0m\u001b[0mdata_string\u001b[0m\u001b[0;34m,\u001b[0m \u001b[0mformat\u001b[0m\u001b[0;34m)\u001b[0m\u001b[0;34m\u001b[0m\u001b[0;34m\u001b[0m\u001b[0m\n\u001b[0m\u001b[1;32m    578\u001b[0m     \u001b[0mtzname\u001b[0m\u001b[0;34m,\u001b[0m \u001b[0mgmtoff\u001b[0m \u001b[0;34m=\u001b[0m \u001b[0mtt\u001b[0m\u001b[0;34m[\u001b[0m\u001b[0;34m-\u001b[0m\u001b[0;36m2\u001b[0m\u001b[0;34m:\u001b[0m\u001b[0;34m]\u001b[0m\u001b[0;34m\u001b[0m\u001b[0;34m\u001b[0m\u001b[0m\n\u001b[1;32m    579\u001b[0m     \u001b[0margs\u001b[0m \u001b[0;34m=\u001b[0m \u001b[0mtt\u001b[0m\u001b[0;34m[\u001b[0m\u001b[0;34m:\u001b[0m\u001b[0;36m6\u001b[0m\u001b[0;34m]\u001b[0m \u001b[0;34m+\u001b[0m \u001b[0;34m(\u001b[0m\u001b[0mfraction\u001b[0m\u001b[0;34m,\u001b[0m\u001b[0;34m)\u001b[0m\u001b[0;34m\u001b[0m\u001b[0;34m\u001b[0m\u001b[0m\n",
      "\u001b[0;32m~/opt/anaconda3/envs/metisnow/lib/python3.7/_strptime.py\u001b[0m in \u001b[0;36m_strptime\u001b[0;34m(data_string, format)\u001b[0m\n\u001b[1;32m    357\u001b[0m     \u001b[0;32mif\u001b[0m \u001b[0;32mnot\u001b[0m \u001b[0mfound\u001b[0m\u001b[0;34m:\u001b[0m\u001b[0;34m\u001b[0m\u001b[0;34m\u001b[0m\u001b[0m\n\u001b[1;32m    358\u001b[0m         raise ValueError(\"time data %r does not match format %r\" %\n\u001b[0;32m--> 359\u001b[0;31m                          (data_string, format))\n\u001b[0m\u001b[1;32m    360\u001b[0m     \u001b[0;32mif\u001b[0m \u001b[0mlen\u001b[0m\u001b[0;34m(\u001b[0m\u001b[0mdata_string\u001b[0m\u001b[0;34m)\u001b[0m \u001b[0;34m!=\u001b[0m \u001b[0mfound\u001b[0m\u001b[0;34m.\u001b[0m\u001b[0mend\u001b[0m\u001b[0;34m(\u001b[0m\u001b[0;34m)\u001b[0m\u001b[0;34m:\u001b[0m\u001b[0;34m\u001b[0m\u001b[0;34m\u001b[0m\u001b[0m\n\u001b[1;32m    361\u001b[0m         raise ValueError(\"unconverted data remains: %s\" %\n",
      "\u001b[0;31mValueError\u001b[0m: time data '1900-01-01 00:00:00' does not match format '%H:%M:%S'"
     ]
    }
   ],
   "source": [
    "df.Time = df.Time.astype(str).apply(lambda x: datetime.datetime.strptime(x, '%H:%M:%S'))"
   ]
  },
  {
   "cell_type": "code",
   "execution_count": 143,
   "metadata": {},
   "outputs": [],
   "source": [
    "df['Time_of_day'] = df.Time.apply(lambda x: group_time(x))"
   ]
  },
  {
   "cell_type": "code",
   "execution_count": 46,
   "metadata": {},
   "outputs": [],
   "source": [
    "df['Day_of_week'] = df.Date.apply(lambda x: x.weekday())\n",
    "df['is_weekday'] = df.Day_of_week.apply(lambda x: np.where(x < 5, True, False))"
   ]
  },
  {
   "cell_type": "code",
   "execution_count": 75,
   "metadata": {},
   "outputs": [
    {
     "data": {
      "text/html": [
       "<div>\n",
       "<style scoped>\n",
       "    .dataframe tbody tr th:only-of-type {\n",
       "        vertical-align: middle;\n",
       "    }\n",
       "\n",
       "    .dataframe tbody tr th {\n",
       "        vertical-align: top;\n",
       "    }\n",
       "\n",
       "    .dataframe thead th {\n",
       "        text-align: right;\n",
       "    }\n",
       "</style>\n",
       "<table border=\"1\" class=\"dataframe\">\n",
       "  <thead>\n",
       "    <tr style=\"text-align: right;\">\n",
       "      <th></th>\n",
       "      <th>Turnstile_ID</th>\n",
       "      <th>Station</th>\n",
       "      <th>Date</th>\n",
       "      <th>Time</th>\n",
       "      <th>Exit_diff</th>\n",
       "      <th>Entry_diff</th>\n",
       "      <th>Net_Flow</th>\n",
       "      <th>Time_of_day</th>\n",
       "      <th>Day_of_week</th>\n",
       "      <th>is_weekday</th>\n",
       "    </tr>\n",
       "  </thead>\n",
       "  <tbody>\n",
       "    <tr>\n",
       "      <th>1403532</th>\n",
       "      <td>R033_00-00-00_TIMES SQ-42 ST</td>\n",
       "      <td>TIMES SQ-42 ST</td>\n",
       "      <td>2019-11-13</td>\n",
       "      <td>1900-01-01 03:00:00</td>\n",
       "      <td>45.0</td>\n",
       "      <td>194.0</td>\n",
       "      <td>239.0</td>\n",
       "      <td>None</td>\n",
       "      <td>2</td>\n",
       "      <td>True</td>\n",
       "    </tr>\n",
       "    <tr>\n",
       "      <th>9963831</th>\n",
       "      <td>R544_00-04-04_HARRISON</td>\n",
       "      <td>HARRISON</td>\n",
       "      <td>2019-12-26</td>\n",
       "      <td>1900-01-01 03:14:11</td>\n",
       "      <td>63.0</td>\n",
       "      <td>0.0</td>\n",
       "      <td>63.0</td>\n",
       "      <td>None</td>\n",
       "      <td>3</td>\n",
       "      <td>True</td>\n",
       "    </tr>\n",
       "    <tr>\n",
       "      <th>3451155</th>\n",
       "      <td>R110_02-05-02_FLATBUSH AV-B.C</td>\n",
       "      <td>FLATBUSH AV-B.C</td>\n",
       "      <td>2019-03-17</td>\n",
       "      <td>1900-01-01 21:00:00</td>\n",
       "      <td>140.0</td>\n",
       "      <td>4.0</td>\n",
       "      <td>144.0</td>\n",
       "      <td>3</td>\n",
       "      <td>6</td>\n",
       "      <td>False</td>\n",
       "    </tr>\n",
       "    <tr>\n",
       "      <th>2204280</th>\n",
       "      <td>R057_00-03-03_ATL AV-BARCLAY</td>\n",
       "      <td>ATL AV-BARCLAY</td>\n",
       "      <td>2019-09-24</td>\n",
       "      <td>1900-01-01 00:00:00</td>\n",
       "      <td>31.0</td>\n",
       "      <td>112.0</td>\n",
       "      <td>143.0</td>\n",
       "      <td>None</td>\n",
       "      <td>1</td>\n",
       "      <td>True</td>\n",
       "    </tr>\n",
       "    <tr>\n",
       "      <th>9003211</th>\n",
       "      <td>R413_00-00-01_KNICKERBOCKER</td>\n",
       "      <td>KNICKERBOCKER</td>\n",
       "      <td>2019-03-08</td>\n",
       "      <td>1900-01-01 20:00:00</td>\n",
       "      <td>431.0</td>\n",
       "      <td>123.0</td>\n",
       "      <td>554.0</td>\n",
       "      <td>3</td>\n",
       "      <td>4</td>\n",
       "      <td>True</td>\n",
       "    </tr>\n",
       "    <tr>\n",
       "      <th>7868612</th>\n",
       "      <td>R324_00-00-02_116 ST</td>\n",
       "      <td>116 ST</td>\n",
       "      <td>2019-11-22</td>\n",
       "      <td>1900-01-01 12:00:00</td>\n",
       "      <td>201.0</td>\n",
       "      <td>201.0</td>\n",
       "      <td>402.0</td>\n",
       "      <td>1</td>\n",
       "      <td>4</td>\n",
       "      <td>True</td>\n",
       "    </tr>\n",
       "    <tr>\n",
       "      <th>5989903</th>\n",
       "      <td>R213_00-00-01_BAY RIDGE AV</td>\n",
       "      <td>BAY RIDGE AV</td>\n",
       "      <td>2019-09-15</td>\n",
       "      <td>1900-01-01 08:00:00</td>\n",
       "      <td>6.0</td>\n",
       "      <td>36.0</td>\n",
       "      <td>42.0</td>\n",
       "      <td>0</td>\n",
       "      <td>6</td>\n",
       "      <td>False</td>\n",
       "    </tr>\n",
       "    <tr>\n",
       "      <th>9487604</th>\n",
       "      <td>R460_00-03-02_MARCY AV</td>\n",
       "      <td>MARCY AV</td>\n",
       "      <td>2019-06-26</td>\n",
       "      <td>1900-01-01 05:00:00</td>\n",
       "      <td>14.0</td>\n",
       "      <td>6.0</td>\n",
       "      <td>20.0</td>\n",
       "      <td>None</td>\n",
       "      <td>2</td>\n",
       "      <td>True</td>\n",
       "    </tr>\n",
       "    <tr>\n",
       "      <th>10264805</th>\n",
       "      <td>R550_01-01-06_LACKAWANNA</td>\n",
       "      <td>LACKAWANNA</td>\n",
       "      <td>2019-11-17</td>\n",
       "      <td>1900-01-01 16:02:46</td>\n",
       "      <td>19.0</td>\n",
       "      <td>70.0</td>\n",
       "      <td>89.0</td>\n",
       "      <td>2</td>\n",
       "      <td>6</td>\n",
       "      <td>False</td>\n",
       "    </tr>\n",
       "    <tr>\n",
       "      <th>36897</th>\n",
       "      <td>R001_02-00-01_SOUTH FERRY</td>\n",
       "      <td>SOUTH FERRY</td>\n",
       "      <td>2019-11-15</td>\n",
       "      <td>1900-01-01 12:00:00</td>\n",
       "      <td>237.0</td>\n",
       "      <td>399.0</td>\n",
       "      <td>636.0</td>\n",
       "      <td>1</td>\n",
       "      <td>4</td>\n",
       "      <td>True</td>\n",
       "    </tr>\n",
       "    <tr>\n",
       "      <th>9664788</th>\n",
       "      <td>R535_01-00-03_HOWARD BCH JFK</td>\n",
       "      <td>HOWARD BCH JFK</td>\n",
       "      <td>2019-09-15</td>\n",
       "      <td>1900-01-01 09:00:00</td>\n",
       "      <td>52.0</td>\n",
       "      <td>27.0</td>\n",
       "      <td>79.0</td>\n",
       "      <td>0</td>\n",
       "      <td>6</td>\n",
       "      <td>False</td>\n",
       "    </tr>\n",
       "    <tr>\n",
       "      <th>2428985</th>\n",
       "      <td>R067_00-00-00_PENNSYLVANIA AV</td>\n",
       "      <td>PENNSYLVANIA AV</td>\n",
       "      <td>2019-06-09</td>\n",
       "      <td>1900-01-01 04:00:00</td>\n",
       "      <td>0.0</td>\n",
       "      <td>0.0</td>\n",
       "      <td>0.0</td>\n",
       "      <td>None</td>\n",
       "      <td>6</td>\n",
       "      <td>False</td>\n",
       "    </tr>\n",
       "    <tr>\n",
       "      <th>5046317</th>\n",
       "      <td>R170_03-03-00_14 ST-UNION SQ</td>\n",
       "      <td>14 ST-UNION SQ</td>\n",
       "      <td>2019-06-07</td>\n",
       "      <td>1900-01-01 09:00:00</td>\n",
       "      <td>996.0</td>\n",
       "      <td>81.0</td>\n",
       "      <td>1077.0</td>\n",
       "      <td>0</td>\n",
       "      <td>4</td>\n",
       "      <td>True</td>\n",
       "    </tr>\n",
       "    <tr>\n",
       "      <th>1007852</th>\n",
       "      <td>R025_00-00-08_JAMAICA CENTER</td>\n",
       "      <td>JAMAICA CENTER</td>\n",
       "      <td>2019-03-09</td>\n",
       "      <td>1900-01-01 07:00:00</td>\n",
       "      <td>50.0</td>\n",
       "      <td>306.0</td>\n",
       "      <td>356.0</td>\n",
       "      <td>None</td>\n",
       "      <td>5</td>\n",
       "      <td>False</td>\n",
       "    </tr>\n",
       "  </tbody>\n",
       "</table>\n",
       "</div>"
      ],
      "text/plain": [
       "                           Turnstile_ID          Station        Date  \\\n",
       "1403532    R033_00-00-00_TIMES SQ-42 ST   TIMES SQ-42 ST  2019-11-13   \n",
       "9963831          R544_00-04-04_HARRISON         HARRISON  2019-12-26   \n",
       "3451155   R110_02-05-02_FLATBUSH AV-B.C  FLATBUSH AV-B.C  2019-03-17   \n",
       "2204280    R057_00-03-03_ATL AV-BARCLAY   ATL AV-BARCLAY  2019-09-24   \n",
       "9003211     R413_00-00-01_KNICKERBOCKER    KNICKERBOCKER  2019-03-08   \n",
       "7868612            R324_00-00-02_116 ST           116 ST  2019-11-22   \n",
       "5989903      R213_00-00-01_BAY RIDGE AV     BAY RIDGE AV  2019-09-15   \n",
       "9487604          R460_00-03-02_MARCY AV         MARCY AV  2019-06-26   \n",
       "10264805       R550_01-01-06_LACKAWANNA       LACKAWANNA  2019-11-17   \n",
       "36897         R001_02-00-01_SOUTH FERRY      SOUTH FERRY  2019-11-15   \n",
       "9664788    R535_01-00-03_HOWARD BCH JFK   HOWARD BCH JFK  2019-09-15   \n",
       "2428985   R067_00-00-00_PENNSYLVANIA AV  PENNSYLVANIA AV  2019-06-09   \n",
       "5046317    R170_03-03-00_14 ST-UNION SQ   14 ST-UNION SQ  2019-06-07   \n",
       "1007852    R025_00-00-08_JAMAICA CENTER   JAMAICA CENTER  2019-03-09   \n",
       "\n",
       "                        Time  Exit_diff  Entry_diff  Net_Flow Time_of_day  \\\n",
       "1403532  1900-01-01 03:00:00       45.0       194.0     239.0        None   \n",
       "9963831  1900-01-01 03:14:11       63.0         0.0      63.0        None   \n",
       "3451155  1900-01-01 21:00:00      140.0         4.0     144.0           3   \n",
       "2204280  1900-01-01 00:00:00       31.0       112.0     143.0        None   \n",
       "9003211  1900-01-01 20:00:00      431.0       123.0     554.0           3   \n",
       "7868612  1900-01-01 12:00:00      201.0       201.0     402.0           1   \n",
       "5989903  1900-01-01 08:00:00        6.0        36.0      42.0           0   \n",
       "9487604  1900-01-01 05:00:00       14.0         6.0      20.0        None   \n",
       "10264805 1900-01-01 16:02:46       19.0        70.0      89.0           2   \n",
       "36897    1900-01-01 12:00:00      237.0       399.0     636.0           1   \n",
       "9664788  1900-01-01 09:00:00       52.0        27.0      79.0           0   \n",
       "2428985  1900-01-01 04:00:00        0.0         0.0       0.0        None   \n",
       "5046317  1900-01-01 09:00:00      996.0        81.0    1077.0           0   \n",
       "1007852  1900-01-01 07:00:00       50.0       306.0     356.0        None   \n",
       "\n",
       "          Day_of_week  is_weekday  \n",
       "1403532             2        True  \n",
       "9963831             3        True  \n",
       "3451155             6       False  \n",
       "2204280             1        True  \n",
       "9003211             4        True  \n",
       "7868612             4        True  \n",
       "5989903             6       False  \n",
       "9487604             2        True  \n",
       "10264805            6       False  \n",
       "36897               4        True  \n",
       "9664788             6       False  \n",
       "2428985             6       False  \n",
       "5046317             4        True  \n",
       "1007852             5       False  "
      ]
     },
     "execution_count": 75,
     "metadata": {},
     "output_type": "execute_result"
    }
   ],
   "source": [
    "df.sample(14)"
   ]
  },
  {
   "cell_type": "code",
   "execution_count": 144,
   "metadata": {},
   "outputs": [],
   "source": [
    "week_day_data = pd.DataFrame(df[df.is_weekday == True])"
   ]
  },
  {
   "cell_type": "code",
   "execution_count": 77,
   "metadata": {},
   "outputs": [
    {
     "data": {
      "text/html": [
       "<div>\n",
       "<style scoped>\n",
       "    .dataframe tbody tr th:only-of-type {\n",
       "        vertical-align: middle;\n",
       "    }\n",
       "\n",
       "    .dataframe tbody tr th {\n",
       "        vertical-align: top;\n",
       "    }\n",
       "\n",
       "    .dataframe thead th {\n",
       "        text-align: right;\n",
       "    }\n",
       "</style>\n",
       "<table border=\"1\" class=\"dataframe\">\n",
       "  <thead>\n",
       "    <tr style=\"text-align: right;\">\n",
       "      <th></th>\n",
       "      <th>Turnstile_ID</th>\n",
       "      <th>Station</th>\n",
       "      <th>Date</th>\n",
       "      <th>Time</th>\n",
       "      <th>Exit_diff</th>\n",
       "      <th>Entry_diff</th>\n",
       "      <th>Net_Flow</th>\n",
       "      <th>Time_of_day</th>\n",
       "      <th>Day_of_week</th>\n",
       "      <th>is_weekday</th>\n",
       "    </tr>\n",
       "  </thead>\n",
       "  <tbody>\n",
       "    <tr>\n",
       "      <th>1296345</th>\n",
       "      <td>R030_00-06-00_CHAMBERS ST</td>\n",
       "      <td>CHAMBERS ST</td>\n",
       "      <td>2019-05-14</td>\n",
       "      <td>1900-01-01 12:00:00</td>\n",
       "      <td>731.0</td>\n",
       "      <td>164.0</td>\n",
       "      <td>895.0</td>\n",
       "      <td>1</td>\n",
       "      <td>1</td>\n",
       "      <td>True</td>\n",
       "    </tr>\n",
       "    <tr>\n",
       "      <th>4243637</th>\n",
       "      <td>R141_00-03-00_FOREST HILLS 71</td>\n",
       "      <td>FOREST HILLS 71</td>\n",
       "      <td>2019-02-01</td>\n",
       "      <td>1900-01-01 12:00:00</td>\n",
       "      <td>18.0</td>\n",
       "      <td>692.0</td>\n",
       "      <td>710.0</td>\n",
       "      <td>1</td>\n",
       "      <td>4</td>\n",
       "      <td>True</td>\n",
       "    </tr>\n",
       "    <tr>\n",
       "      <th>294675</th>\n",
       "      <td>R012_03-00-00_34 ST-PENN STA</td>\n",
       "      <td>34 ST-PENN STA</td>\n",
       "      <td>2019-03-21</td>\n",
       "      <td>1900-01-01 04:00:00</td>\n",
       "      <td>0.0</td>\n",
       "      <td>1.0</td>\n",
       "      <td>1.0</td>\n",
       "      <td>None</td>\n",
       "      <td>3</td>\n",
       "      <td>True</td>\n",
       "    </tr>\n",
       "    <tr>\n",
       "      <th>1801260</th>\n",
       "      <td>R046_00-00-07_GRD CNTRL-42 ST</td>\n",
       "      <td>GRD CNTRL-42 ST</td>\n",
       "      <td>2019-06-13</td>\n",
       "      <td>1900-01-01 20:00:00</td>\n",
       "      <td>542.0</td>\n",
       "      <td>122.0</td>\n",
       "      <td>664.0</td>\n",
       "      <td>3</td>\n",
       "      <td>3</td>\n",
       "      <td>True</td>\n",
       "    </tr>\n",
       "    <tr>\n",
       "      <th>2060468</th>\n",
       "      <td>R052_00-00-04_WOODLAWN</td>\n",
       "      <td>WOODLAWN</td>\n",
       "      <td>2019-07-29</td>\n",
       "      <td>1900-01-01 12:00:00</td>\n",
       "      <td>22.0</td>\n",
       "      <td>340.0</td>\n",
       "      <td>362.0</td>\n",
       "      <td>1</td>\n",
       "      <td>0</td>\n",
       "      <td>True</td>\n",
       "    </tr>\n",
       "    <tr>\n",
       "      <th>9490619</th>\n",
       "      <td>R460_00-05-00_MARCY AV</td>\n",
       "      <td>MARCY AV</td>\n",
       "      <td>2019-11-07</td>\n",
       "      <td>1900-01-01 16:00:00</td>\n",
       "      <td>0.0</td>\n",
       "      <td>0.0</td>\n",
       "      <td>0.0</td>\n",
       "      <td>2</td>\n",
       "      <td>3</td>\n",
       "      <td>True</td>\n",
       "    </tr>\n",
       "    <tr>\n",
       "      <th>2901082</th>\n",
       "      <td>R088_00-02-00_CORTLANDT ST</td>\n",
       "      <td>CORTLANDT ST</td>\n",
       "      <td>2019-07-18</td>\n",
       "      <td>1900-01-01 05:00:00</td>\n",
       "      <td>1.0</td>\n",
       "      <td>0.0</td>\n",
       "      <td>1.0</td>\n",
       "      <td>None</td>\n",
       "      <td>3</td>\n",
       "      <td>True</td>\n",
       "    </tr>\n",
       "    <tr>\n",
       "      <th>7640797</th>\n",
       "      <td>R306_00-06-02_238 ST</td>\n",
       "      <td>238 ST</td>\n",
       "      <td>2019-09-13</td>\n",
       "      <td>1900-01-01 05:00:00</td>\n",
       "      <td>0.0</td>\n",
       "      <td>0.0</td>\n",
       "      <td>0.0</td>\n",
       "      <td>None</td>\n",
       "      <td>4</td>\n",
       "      <td>True</td>\n",
       "    </tr>\n",
       "    <tr>\n",
       "      <th>5696805</th>\n",
       "      <td>R197_00-00-05_36 ST</td>\n",
       "      <td>36 ST</td>\n",
       "      <td>2019-05-30</td>\n",
       "      <td>1900-01-01 13:00:00</td>\n",
       "      <td>126.0</td>\n",
       "      <td>639.0</td>\n",
       "      <td>765.0</td>\n",
       "      <td>1</td>\n",
       "      <td>3</td>\n",
       "      <td>True</td>\n",
       "    </tr>\n",
       "    <tr>\n",
       "      <th>10391931</th>\n",
       "      <td>R570_01-00-03_72 ST-2 AVE</td>\n",
       "      <td>72 ST-2 AVE</td>\n",
       "      <td>2019-01-23</td>\n",
       "      <td>1900-01-01 20:00:00</td>\n",
       "      <td>344.0</td>\n",
       "      <td>763.0</td>\n",
       "      <td>1107.0</td>\n",
       "      <td>3</td>\n",
       "      <td>2</td>\n",
       "      <td>True</td>\n",
       "    </tr>\n",
       "  </tbody>\n",
       "</table>\n",
       "</div>"
      ],
      "text/plain": [
       "                           Turnstile_ID          Station        Date  \\\n",
       "1296345       R030_00-06-00_CHAMBERS ST      CHAMBERS ST  2019-05-14   \n",
       "4243637   R141_00-03-00_FOREST HILLS 71  FOREST HILLS 71  2019-02-01   \n",
       "294675     R012_03-00-00_34 ST-PENN STA   34 ST-PENN STA  2019-03-21   \n",
       "1801260   R046_00-00-07_GRD CNTRL-42 ST  GRD CNTRL-42 ST  2019-06-13   \n",
       "2060468          R052_00-00-04_WOODLAWN         WOODLAWN  2019-07-29   \n",
       "9490619          R460_00-05-00_MARCY AV         MARCY AV  2019-11-07   \n",
       "2901082      R088_00-02-00_CORTLANDT ST     CORTLANDT ST  2019-07-18   \n",
       "7640797            R306_00-06-02_238 ST           238 ST  2019-09-13   \n",
       "5696805             R197_00-00-05_36 ST            36 ST  2019-05-30   \n",
       "10391931      R570_01-00-03_72 ST-2 AVE      72 ST-2 AVE  2019-01-23   \n",
       "\n",
       "                        Time  Exit_diff  Entry_diff  Net_Flow Time_of_day  \\\n",
       "1296345  1900-01-01 12:00:00      731.0       164.0     895.0           1   \n",
       "4243637  1900-01-01 12:00:00       18.0       692.0     710.0           1   \n",
       "294675   1900-01-01 04:00:00        0.0         1.0       1.0        None   \n",
       "1801260  1900-01-01 20:00:00      542.0       122.0     664.0           3   \n",
       "2060468  1900-01-01 12:00:00       22.0       340.0     362.0           1   \n",
       "9490619  1900-01-01 16:00:00        0.0         0.0       0.0           2   \n",
       "2901082  1900-01-01 05:00:00        1.0         0.0       1.0        None   \n",
       "7640797  1900-01-01 05:00:00        0.0         0.0       0.0        None   \n",
       "5696805  1900-01-01 13:00:00      126.0       639.0     765.0           1   \n",
       "10391931 1900-01-01 20:00:00      344.0       763.0    1107.0           3   \n",
       "\n",
       "          Day_of_week  is_weekday  \n",
       "1296345             1        True  \n",
       "4243637             4        True  \n",
       "294675              3        True  \n",
       "1801260             3        True  \n",
       "2060468             0        True  \n",
       "9490619             3        True  \n",
       "2901082             3        True  \n",
       "7640797             4        True  \n",
       "5696805             3        True  \n",
       "10391931            2        True  "
      ]
     },
     "execution_count": 77,
     "metadata": {},
     "output_type": "execute_result"
    }
   ],
   "source": [
    "week_day_data.sample(10)"
   ]
  },
  {
   "cell_type": "code",
   "execution_count": 145,
   "metadata": {},
   "outputs": [],
   "source": [
    "week_day_by_period = week_day_data.groupby(by = ['Station','Date','Time_of_day']).sum().reset_index()"
   ]
  },
  {
   "cell_type": "code",
   "execution_count": 146,
   "metadata": {},
   "outputs": [],
   "source": [
    "weekday_topten = week_day_by_period[week_day_by_period.Station.isin(top_ten)]\n",
    "weekday_bytime_agg = pd.crosstab(weekday_topten.Time_of_day,weekday_topten.Station,weekday_topten.Net_Flow,aggfunc = np.mean).reset_index()"
   ]
  },
  {
   "cell_type": "code",
   "execution_count": 147,
   "metadata": {},
   "outputs": [],
   "source": [
    "weekday_bytime_agg.set_index('Time_of_day')\n",
    "weekday_bytime_agg.index.rename('',inplace=True)"
   ]
  },
  {
   "cell_type": "code",
   "execution_count": 148,
   "metadata": {},
   "outputs": [],
   "source": [
    "weekday_bytime_agg.drop(columns = 'Time_of_day',inplace=True)"
   ]
  },
  {
   "cell_type": "code",
   "execution_count": 150,
   "metadata": {},
   "outputs": [
    {
     "data": {
      "image/png": "[encoded data removed]",
      "text/plain": [
       "<Figure size 864x576 with 2 Axes>"
      ]
     },
     "metadata": {
      "needs_background": "light"
     },
     "output_type": "display_data"
    }
   ],
   "source": [
    "plt.figure(figsize=[12,8])\n",
    "sns.heatmap(weekday_bytime_agg.transpose(),xticklabels = time_of_day,cmap = \"BuPu\")\n",
    "plt.savefig('top10_sta_heatmap.png')"
   ]
  },
  {
   "cell_type": "code",
   "execution_count": null,
   "metadata": {},
   "outputs": [],
   "source": []
  }
 ],
 "metadata": {
  "kernelspec": {
   "display_name": "Python 3",
   "language": "python",
   "name": "python3"
  },
  "language_info": {
   "codemirror_mode": {
    "name": "ipython",
    "version": 3
   },
   "file_extension": ".py",
   "mimetype": "text/x-python",
   "name": "python",
   "nbconvert_exporter": "python",
   "pygments_lexer": "ipython3",
   "version": "3.7.6"
  }
 },
 "nbformat": 4,
 "nbformat_minor": 2
}
